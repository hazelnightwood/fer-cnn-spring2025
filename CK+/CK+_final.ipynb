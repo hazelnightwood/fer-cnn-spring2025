{
  "nbformat": 4,
  "nbformat_minor": 0,
  "metadata": {
    "colab": {
      "provenance": [],
      "gpuType": "A100"
    },
    "kernelspec": {
      "name": "python3",
      "display_name": "Python 3"
    },
    "language_info": {
      "name": "python"
    },
    "accelerator": "GPU"
  },
  "cells": [
    {
      "cell_type": "markdown",
      "source": [
        "**FER in CK+ Dataset Implementation**"
      ],
      "metadata": {
        "id": "d5UppNxmUQvc"
      }
    },
    {
      "cell_type": "markdown",
      "source": [
        "In this experiment, aiming to complement our models performance on primary dataset, we seek to evaluate them on this higher-quality CK+ dataset."
      ],
      "metadata": {
        "id": "KUN0Db-ViFme"
      }
    },
    {
      "cell_type": "markdown",
      "source": [
        "**Data Uploading:**\n",
        "CK+ file ('ckextended.csv') includes facial expression data of emotion labels and pixel values."
      ],
      "metadata": {
        "id": "lgf_HqDTX18f"
      }
    },
    {
      "cell_type": "code",
      "source": [
        "from google.colab import files\n",
        "uploaded = files.upload()\n",
        "\n",
        "#load\n",
        "import pandas as pd\n",
        "df = pd.read_csv(\"ckextended.csv\")\n",
        "print(df.columns)\n",
        "print(df.head())\n",
        "\n",
        "#data splitting\n",
        "train_df = df[df['Usage'] == 'Training']\n",
        "val_df   = df[df['Usage'] == 'PublicTest']\n",
        "test_df  = df[df['Usage'] == 'PrivateTest']"
      ],
      "metadata": {
        "id": "ihNR2mcLvT9p",
        "colab": {
          "base_uri": "https://localhost:8080/",
          "height": 199
        },
        "outputId": "c0566996-6752-4358-af92-0f87fcb40fc5"
      },
      "execution_count": null,
      "outputs": [
        {
          "output_type": "display_data",
          "data": {
            "text/plain": [
              "<IPython.core.display.HTML object>"
            ],
            "text/html": [
              "\n",
              "     <input type=\"file\" id=\"files-e3dfa9f9-e355-4991-9c4a-b65c504e93b2\" name=\"files[]\" multiple disabled\n",
              "        style=\"border:none\" />\n",
              "     <output id=\"result-e3dfa9f9-e355-4991-9c4a-b65c504e93b2\">\n",
              "      Upload widget is only available when the cell has been executed in the\n",
              "      current browser session. Please rerun this cell to enable.\n",
              "      </output>\n",
              "      <script>// Copyright 2017 Google LLC\n",
              "//\n",
              "// Licensed under the Apache License, Version 2.0 (the \"License\");\n",
              "// you may not use this file except in compliance with the License.\n",
              "// You may obtain a copy of the License at\n",
              "//\n",
              "//      http://www.apache.org/licenses/LICENSE-2.0\n",
              "//\n",
              "// Unless required by applicable law or agreed to in writing, software\n",
              "// distributed under the License is distributed on an \"AS IS\" BASIS,\n",
              "// WITHOUT WARRANTIES OR CONDITIONS OF ANY KIND, either express or implied.\n",
              "// See the License for the specific language governing permissions and\n",
              "// limitations under the License.\n",
              "\n",
              "/**\n",
              " * @fileoverview Helpers for google.colab Python module.\n",
              " */\n",
              "(function(scope) {\n",
              "function span(text, styleAttributes = {}) {\n",
              "  const element = document.createElement('span');\n",
              "  element.textContent = text;\n",
              "  for (const key of Object.keys(styleAttributes)) {\n",
              "    element.style[key] = styleAttributes[key];\n",
              "  }\n",
              "  return element;\n",
              "}\n",
              "\n",
              "// Max number of bytes which will be uploaded at a time.\n",
              "const MAX_PAYLOAD_SIZE = 100 * 1024;\n",
              "\n",
              "function _uploadFiles(inputId, outputId) {\n",
              "  const steps = uploadFilesStep(inputId, outputId);\n",
              "  const outputElement = document.getElementById(outputId);\n",
              "  // Cache steps on the outputElement to make it available for the next call\n",
              "  // to uploadFilesContinue from Python.\n",
              "  outputElement.steps = steps;\n",
              "\n",
              "  return _uploadFilesContinue(outputId);\n",
              "}\n",
              "\n",
              "// This is roughly an async generator (not supported in the browser yet),\n",
              "// where there are multiple asynchronous steps and the Python side is going\n",
              "// to poll for completion of each step.\n",
              "// This uses a Promise to block the python side on completion of each step,\n",
              "// then passes the result of the previous step as the input to the next step.\n",
              "function _uploadFilesContinue(outputId) {\n",
              "  const outputElement = document.getElementById(outputId);\n",
              "  const steps = outputElement.steps;\n",
              "\n",
              "  const next = steps.next(outputElement.lastPromiseValue);\n",
              "  return Promise.resolve(next.value.promise).then((value) => {\n",
              "    // Cache the last promise value to make it available to the next\n",
              "    // step of the generator.\n",
              "    outputElement.lastPromiseValue = value;\n",
              "    return next.value.response;\n",
              "  });\n",
              "}\n",
              "\n",
              "/**\n",
              " * Generator function which is called between each async step of the upload\n",
              " * process.\n",
              " * @param {string} inputId Element ID of the input file picker element.\n",
              " * @param {string} outputId Element ID of the output display.\n",
              " * @return {!Iterable<!Object>} Iterable of next steps.\n",
              " */\n",
              "function* uploadFilesStep(inputId, outputId) {\n",
              "  const inputElement = document.getElementById(inputId);\n",
              "  inputElement.disabled = false;\n",
              "\n",
              "  const outputElement = document.getElementById(outputId);\n",
              "  outputElement.innerHTML = '';\n",
              "\n",
              "  const pickedPromise = new Promise((resolve) => {\n",
              "    inputElement.addEventListener('change', (e) => {\n",
              "      resolve(e.target.files);\n",
              "    });\n",
              "  });\n",
              "\n",
              "  const cancel = document.createElement('button');\n",
              "  inputElement.parentElement.appendChild(cancel);\n",
              "  cancel.textContent = 'Cancel upload';\n",
              "  const cancelPromise = new Promise((resolve) => {\n",
              "    cancel.onclick = () => {\n",
              "      resolve(null);\n",
              "    };\n",
              "  });\n",
              "\n",
              "  // Wait for the user to pick the files.\n",
              "  const files = yield {\n",
              "    promise: Promise.race([pickedPromise, cancelPromise]),\n",
              "    response: {\n",
              "      action: 'starting',\n",
              "    }\n",
              "  };\n",
              "\n",
              "  cancel.remove();\n",
              "\n",
              "  // Disable the input element since further picks are not allowed.\n",
              "  inputElement.disabled = true;\n",
              "\n",
              "  if (!files) {\n",
              "    return {\n",
              "      response: {\n",
              "        action: 'complete',\n",
              "      }\n",
              "    };\n",
              "  }\n",
              "\n",
              "  for (const file of files) {\n",
              "    const li = document.createElement('li');\n",
              "    li.append(span(file.name, {fontWeight: 'bold'}));\n",
              "    li.append(span(\n",
              "        `(${file.type || 'n/a'}) - ${file.size} bytes, ` +\n",
              "        `last modified: ${\n",
              "            file.lastModifiedDate ? file.lastModifiedDate.toLocaleDateString() :\n",
              "                                    'n/a'} - `));\n",
              "    const percent = span('0% done');\n",
              "    li.appendChild(percent);\n",
              "\n",
              "    outputElement.appendChild(li);\n",
              "\n",
              "    const fileDataPromise = new Promise((resolve) => {\n",
              "      const reader = new FileReader();\n",
              "      reader.onload = (e) => {\n",
              "        resolve(e.target.result);\n",
              "      };\n",
              "      reader.readAsArrayBuffer(file);\n",
              "    });\n",
              "    // Wait for the data to be ready.\n",
              "    let fileData = yield {\n",
              "      promise: fileDataPromise,\n",
              "      response: {\n",
              "        action: 'continue',\n",
              "      }\n",
              "    };\n",
              "\n",
              "    // Use a chunked sending to avoid message size limits. See b/62115660.\n",
              "    let position = 0;\n",
              "    do {\n",
              "      const length = Math.min(fileData.byteLength - position, MAX_PAYLOAD_SIZE);\n",
              "      const chunk = new Uint8Array(fileData, position, length);\n",
              "      position += length;\n",
              "\n",
              "      const base64 = btoa(String.fromCharCode.apply(null, chunk));\n",
              "      yield {\n",
              "        response: {\n",
              "          action: 'append',\n",
              "          file: file.name,\n",
              "          data: base64,\n",
              "        },\n",
              "      };\n",
              "\n",
              "      let percentDone = fileData.byteLength === 0 ?\n",
              "          100 :\n",
              "          Math.round((position / fileData.byteLength) * 100);\n",
              "      percent.textContent = `${percentDone}% done`;\n",
              "\n",
              "    } while (position < fileData.byteLength);\n",
              "  }\n",
              "\n",
              "  // All done.\n",
              "  yield {\n",
              "    response: {\n",
              "      action: 'complete',\n",
              "    }\n",
              "  };\n",
              "}\n",
              "\n",
              "scope.google = scope.google || {};\n",
              "scope.google.colab = scope.google.colab || {};\n",
              "scope.google.colab._files = {\n",
              "  _uploadFiles,\n",
              "  _uploadFilesContinue,\n",
              "};\n",
              "})(self);\n",
              "</script> "
            ]
          },
          "metadata": {}
        },
        {
          "output_type": "stream",
          "name": "stdout",
          "text": [
            "Saving ckextended.csv to ckextended (1).csv\n",
            "Index(['emotion', 'pixels', 'Usage'], dtype='object')\n",
            "   emotion                                             pixels     Usage\n",
            "0        6  36 39 35 25 19 11 8 7 3 13 15 9 21 57 75 90 10...  Training\n",
            "1        6  88 74 19 4 5 5 3 12 8 21 15 21 15 18 24 29 32 ...  Training\n",
            "2        6  9 2 4 7 1 1 1 0 7 29 49 76 115 141 156 169 177...  Training\n",
            "3        6  104 106 108 104 95 50 60 61 58 83 126 133 139 ...  Training\n",
            "4        6  68 72 67 67 6 2 1 1 1 1 1 14 24 24 38 65 79 94...  Training\n"
          ]
        }
      ]
    },
    {
      "cell_type": "code",
      "source": [
        "from torch.utils.data import Dataset\n",
        "from PIL import Image\n",
        "import numpy as np\n",
        "\n",
        "class FERDataset(Dataset):\n",
        "    def __init__(self, dataframe, transform=None):\n",
        "        self.df = dataframe.reset_index(drop=True)\n",
        "        self.transform = transform\n",
        "\n",
        "    def __getitem__(self, idx):\n",
        "        pixels = self.df.loc[idx, 'pixels']\n",
        "        img = np.fromstring(pixels, sep=' ', dtype=np.uint8).reshape(48, 48)\n",
        "        img = Image.fromarray(img, mode='L')\n",
        "        label = int(self.df.loc[idx, 'emotion'])\n",
        "        if self.transform:\n",
        "            img = self.transform(img)\n",
        "        return img, label\n",
        "\n",
        "    def __len__(self):\n",
        "        return len(self.df)"
      ],
      "metadata": {
        "id": "MCmHR86KvVfA"
      },
      "execution_count": null,
      "outputs": []
    },
    {
      "cell_type": "markdown",
      "source": [
        "Data Preprocessing"
      ],
      "metadata": {
        "id": "zMS6kmzwc15p"
      }
    },
    {
      "cell_type": "code",
      "source": [
        "from torchvision import transforms\n",
        "from torch.utils.data import DataLoader\n",
        "\n",
        "transform = transforms.Compose([\n",
        "    transforms.Resize((48, 48)),#\n",
        "    transforms.ToTensor()\n",
        "])\n",
        "\n",
        "train_dataset = FERDataset(train_df, transform=transform)\n",
        "val_dataset   = FERDataset(val_df, transform=transform)\n",
        "test_dataset  = FERDataset(test_df, transform=transform)\n",
        "\n",
        "batch_size = 64\n",
        "train_loader = DataLoader(train_dataset, batch_size=batch_size, shuffle=True)\n",
        "val_loader   = DataLoader(val_dataset, batch_size=batch_size)\n",
        "test_loader  = DataLoader(test_dataset, batch_size=batch_size)\n",
        "\n",
        "print(f\" Loaded {len(train_dataset)} train, {len(val_dataset)} val, {len(test_dataset)} test samples.\")"
      ],
      "metadata": {
        "id": "UDoOANgXvW3C",
        "colab": {
          "base_uri": "https://localhost:8080/"
        },
        "outputId": "3351560a-bc7b-42bb-e30c-e359169bc6d0"
      },
      "execution_count": null,
      "outputs": [
        {
          "output_type": "stream",
          "name": "stdout",
          "text": [
            " Loaded 734 train, 91 val, 95 test samples.\n"
          ]
        }
      ]
    },
    {
      "cell_type": "markdown",
      "source": [
        "CK+ on TinyCNN"
      ],
      "metadata": {
        "id": "WOrfOUTbcqBS"
      }
    },
    {
      "cell_type": "code",
      "source": [
        "import torch\n",
        "import torch.nn as nn\n",
        "import random\n",
        "import numpy as np\n",
        "\n",
        "torch.manual_seed(42)\n",
        "np.random.seed(42)\n",
        "random.seed(42)\n",
        "\n",
        "device = 'cuda' if torch.cuda.is_available() else 'cpu'\n",
        "print(\"Using\", device)\n",
        "\n",
        "class TinyCNN(nn.Module):\n",
        "    def __init__(self, num_classes=7):\n",
        "        super().__init__()\n",
        "        self.features = nn.Sequential(\n",
        "            nn.Conv2d(1, 32, 3, padding=1),\n",
        "            nn.BatchNorm2d(32),\n",
        "            nn.ReLU(),\n",
        "            nn.MaxPool2d(2),\n",
        "\n",
        "            nn.Conv2d(32, 64, 3, padding=1),\n",
        "            nn.BatchNorm2d(64),\n",
        "            nn.ReLU(),\n",
        "            nn.MaxPool2d(2),\n",
        "\n",
        "            nn.Conv2d(64, 128, 3, padding=1),\n",
        "            nn.BatchNorm2d(128),\n",
        "            nn.ReLU(),\n",
        "            nn.MaxPool2d(3),\n",
        "        )\n",
        "        self.classifier = nn.Sequential(\n",
        "            nn.Flatten(),\n",
        "            nn.Dropout(0.3),\n",
        "            nn.Linear(128 * 4 * 4, 256),\n",
        "            nn.ReLU(),\n",
        "            nn.Dropout(0.3),\n",
        "            nn.Linear(256, num_classes)\n",
        "        )\n",
        "\n",
        "    def forward(self, x):\n",
        "        x = self.features(x)\n",
        "        return self.classifier(x)"
      ],
      "metadata": {
        "id": "Cp2WRQOavYJr",
        "colab": {
          "base_uri": "https://localhost:8080/"
        },
        "outputId": "aa40fa4e-2f1a-493d-a94a-02d3fffa35dc"
      },
      "execution_count": null,
      "outputs": [
        {
          "output_type": "stream",
          "name": "stdout",
          "text": [
            "Using cuda\n"
          ]
        }
      ]
    },
    {
      "cell_type": "code",
      "source": [
        "def train_one_epoch(model, loader, loss_fn, optim, device):\n",
        "    model.train()\n",
        "    running = 0.0\n",
        "    for x, y in loader:\n",
        "        x, y = x.to(device), y.to(device)\n",
        "        optim.zero_grad()\n",
        "        logits = model(x)\n",
        "        loss = loss_fn(logits, y)\n",
        "        loss.backward()\n",
        "        optim.step()\n",
        "        running += loss.item() * x.size(0)\n",
        "    return running / len(loader.dataset)\n",
        "\n",
        "@torch.no_grad()\n",
        "def evaluate(model, loader, loss_fn, device):\n",
        "    model.eval()\n",
        "    running, correct = 0.0, 0\n",
        "    for x, y in loader:\n",
        "        x, y = x.to(device), y.to(device)\n",
        "        logits = model(x)\n",
        "        running += loss_fn(logits, y).item() * x.size(0)\n",
        "        correct += (logits.argmax(1) == y).sum().item()\n",
        "    return running / len(loader.dataset), correct / len(loader.dataset)"
      ],
      "metadata": {
        "id": "_sZCHGlmvZ_o"
      },
      "execution_count": null,
      "outputs": []
    },
    {
      "cell_type": "code",
      "source": [
        "model = TinyCNN(num_classes=8).to(device)\n",
        "loss_fn = nn.CrossEntropyLoss()\n",
        "optimizer = torch.optim.Adam(model.parameters(), lr=3e-4, weight_decay=1e-4)\n",
        "\n",
        "best_acc = 0.0\n",
        "for epoch in range(1, 21):\n",
        "    train_loss = train_one_epoch(model, train_loader, loss_fn, optimizer, device)\n",
        "    val_loss, val_acc = evaluate(model, val_loader, loss_fn, device)\n",
        "    print(f\"[Epoch {epoch:02d}] Train Loss: {train_loss:.4f} | Val Loss: {val_loss:.4f} | Val Acc: {val_acc:.2%}\")\n",
        "    if val_acc > best_acc:\n",
        "        best_acc = val_acc\n",
        "        torch.save(model.state_dict(), \"tinycnn_best.pth\")\n",
        "\n",
        "print(\"Training complete. Best Val Accuracy:\", best_acc)\n",
        "# Load the best model\n",
        "model.load_state_dict(torch.load(\"tinycnn_best.pth\"))\n",
        "model.eval()\n",
        "\n",
        "# Evaluate on test set\n",
        "test_loss, test_acc = evaluate(model, test_loader, loss_fn, device)\n",
        "print(f\"Final Test Accuracy: {test_acc:.2%}\")"
      ],
      "metadata": {
        "id": "gvyDktYavZ42",
        "colab": {
          "base_uri": "https://localhost:8080/"
        },
        "outputId": "7bfe9050-64c5-45c9-fe86-cbeb195a747e"
      },
      "execution_count": null,
      "outputs": [
        {
          "output_type": "stream",
          "name": "stdout",
          "text": [
            "[Epoch 01] Train Loss: 1.4966 | Val Loss: 1.8235 | Val Acc: 64.84%\n",
            "[Epoch 02] Train Loss: 1.2441 | Val Loss: 1.5920 | Val Acc: 64.84%\n",
            "[Epoch 03] Train Loss: 1.1535 | Val Loss: 1.3268 | Val Acc: 64.84%\n",
            "[Epoch 04] Train Loss: 1.0353 | Val Loss: 1.1066 | Val Acc: 64.84%\n",
            "[Epoch 05] Train Loss: 0.9282 | Val Loss: 0.9605 | Val Acc: 70.33%\n",
            "[Epoch 06] Train Loss: 0.7926 | Val Loss: 0.8525 | Val Acc: 73.63%\n",
            "[Epoch 07] Train Loss: 0.6929 | Val Loss: 0.7687 | Val Acc: 79.12%\n",
            "[Epoch 08] Train Loss: 0.6480 | Val Loss: 0.7202 | Val Acc: 79.12%\n",
            "[Epoch 09] Train Loss: 0.5734 | Val Loss: 0.6758 | Val Acc: 80.22%\n",
            "[Epoch 10] Train Loss: 0.5097 | Val Loss: 0.6407 | Val Acc: 85.71%\n",
            "[Epoch 11] Train Loss: 0.4417 | Val Loss: 0.6045 | Val Acc: 86.81%\n",
            "[Epoch 12] Train Loss: 0.4014 | Val Loss: 0.5890 | Val Acc: 82.42%\n",
            "[Epoch 13] Train Loss: 0.3612 | Val Loss: 0.5684 | Val Acc: 85.71%\n",
            "[Epoch 14] Train Loss: 0.3390 | Val Loss: 0.5897 | Val Acc: 83.52%\n",
            "[Epoch 15] Train Loss: 0.3065 | Val Loss: 0.5226 | Val Acc: 87.91%\n",
            "[Epoch 16] Train Loss: 0.2552 | Val Loss: 0.5205 | Val Acc: 86.81%\n",
            "[Epoch 17] Train Loss: 0.2388 | Val Loss: 0.5314 | Val Acc: 87.91%\n",
            "[Epoch 18] Train Loss: 0.2261 | Val Loss: 0.5240 | Val Acc: 83.52%\n",
            "[Epoch 19] Train Loss: 0.1899 | Val Loss: 0.4719 | Val Acc: 85.71%\n",
            "[Epoch 20] Train Loss: 0.1508 | Val Loss: 0.4519 | Val Acc: 87.91%\n",
            "Training complete. Best Val Accuracy: 0.8791208791208791\n",
            "Final Test Accuracy: 83.16%\n"
          ]
        }
      ]
    },
    {
      "cell_type": "markdown",
      "source": [
        "The final test accuracy reached 83.16%, with the CK+ dataset the model shows a good generalization ability. Train losses continues to decrease, showing this is an efficient learning progress and no overfitting."
      ],
      "metadata": {
        "id": "GeWtEAridM9a"
      }
    },
    {
      "cell_type": "markdown",
      "source": [
        "CK+ on MobileNet: we varied data preprocessing pipline to fit different channels requirement (from 1 channel to 3 channels)."
      ],
      "metadata": {
        "id": "x2MpSEn9bzfc"
      }
    },
    {
      "cell_type": "code",
      "source": [
        "from torchvision import transforms\n",
        "from torch.utils.data import DataLoader\n",
        "\n",
        "transform = transforms.Compose([\n",
        "    transforms.Resize((224, 224)),\n",
        "    transforms.Grayscale(num_output_channels=3),\n",
        "    transforms.ToTensor()\n",
        "])\n",
        "\n",
        "train_dataset = FERDataset(train_df, transform=transform)\n",
        "val_dataset   = FERDataset(val_df, transform=transform)\n",
        "test_dataset  = FERDataset(test_df, transform=transform)\n",
        "\n",
        "batch_size = 64\n",
        "train_loader = DataLoader(train_dataset, batch_size=batch_size, shuffle=True)\n",
        "val_loader   = DataLoader(val_dataset, batch_size=batch_size)\n",
        "test_loader  = DataLoader(test_dataset, batch_size=batch_size)\n",
        "\n",
        "print(f\" Loaded {len(train_dataset)} train, {len(val_dataset)} val, {len(test_dataset)} test samples.\")"
      ],
      "metadata": {
        "colab": {
          "base_uri": "https://localhost:8080/"
        },
        "id": "Ki6HOs6DQXre",
        "outputId": "9fc646a1-3751-45d6-9ec2-b60b511ebb84"
      },
      "execution_count": null,
      "outputs": [
        {
          "output_type": "stream",
          "name": "stdout",
          "text": [
            " Loaded 734 train, 91 val, 95 test samples.\n"
          ]
        }
      ]
    },
    {
      "cell_type": "code",
      "source": [
        "import torch\n",
        "import torch.nn as nn\n",
        "import torchvision.models as models\n",
        "\n",
        "# MobileNetV2 setup\n",
        "mobilenet = models.mobilenet_v2(weights=models.MobileNet_V2_Weights.DEFAULT)\n",
        "mobilenet.classifier[1] = nn.Linear(mobilenet.last_channel, 8)  # 7 emotion classes\n",
        "mobilenet = mobilenet.to(device)\n",
        "\n",
        "loss_fn = nn.CrossEntropyLoss()\n",
        "optimizer = torch.optim.Adam(mobilenet.parameters(), lr=1e-4)\n",
        "\n",
        "# Training loop (short version)\n",
        "best_acc = 0\n",
        "for epoch in range(1, 21):\n",
        "    train_loss = train_one_epoch(mobilenet, train_loader, loss_fn, optimizer, device)\n",
        "    val_loss, val_acc = evaluate(mobilenet, val_loader, loss_fn, device)\n",
        "    print(f\"[MobileNetV2] Epoch {epoch:02d} | Train Loss: {train_loss:.4f} | Val Acc: {val_acc:.2%}\")\n",
        "    if val_acc > best_acc:\n",
        "        best_acc = val_acc\n",
        "        torch.save(mobilenet.state_dict(), \"mobilenetv2_ckplus_best.pth\")\n",
        "\n",
        "# Final test accuracy\n",
        "test_loss, test_acc = evaluate(mobilenet, test_loader, loss_fn, device)\n",
        "print(f\" MobileNetV2 Test Accuracy: {test_acc:.2%}\")"
      ],
      "metadata": {
        "id": "a_jHH4IkOX3o",
        "colab": {
          "base_uri": "https://localhost:8080/"
        },
        "outputId": "c55ddbbc-a6f2-4d94-addd-7dc0b1eb9d0c"
      },
      "execution_count": null,
      "outputs": [
        {
          "output_type": "stream",
          "name": "stdout",
          "text": [
            "[MobileNetV2] Epoch 01 | Train Loss: 1.9297 | Val Acc: 64.84%\n",
            "[MobileNetV2] Epoch 02 | Train Loss: 1.5510 | Val Acc: 64.84%\n",
            "[MobileNetV2] Epoch 03 | Train Loss: 1.2166 | Val Acc: 64.84%\n",
            "[MobileNetV2] Epoch 04 | Train Loss: 0.9425 | Val Acc: 64.84%\n",
            "[MobileNetV2] Epoch 05 | Train Loss: 0.7149 | Val Acc: 68.13%\n",
            "[MobileNetV2] Epoch 06 | Train Loss: 0.5557 | Val Acc: 74.73%\n",
            "[MobileNetV2] Epoch 07 | Train Loss: 0.4179 | Val Acc: 82.42%\n",
            "[MobileNetV2] Epoch 08 | Train Loss: 0.3261 | Val Acc: 82.42%\n",
            "[MobileNetV2] Epoch 09 | Train Loss: 0.2703 | Val Acc: 83.52%\n",
            "[MobileNetV2] Epoch 10 | Train Loss: 0.2163 | Val Acc: 82.42%\n",
            "[MobileNetV2] Epoch 11 | Train Loss: 0.1731 | Val Acc: 83.52%\n",
            "[MobileNetV2] Epoch 12 | Train Loss: 0.1426 | Val Acc: 83.52%\n",
            "[MobileNetV2] Epoch 13 | Train Loss: 0.1127 | Val Acc: 83.52%\n",
            "[MobileNetV2] Epoch 14 | Train Loss: 0.0857 | Val Acc: 82.42%\n",
            "[MobileNetV2] Epoch 15 | Train Loss: 0.0669 | Val Acc: 82.42%\n",
            "[MobileNetV2] Epoch 16 | Train Loss: 0.0453 | Val Acc: 82.42%\n",
            "[MobileNetV2] Epoch 17 | Train Loss: 0.0346 | Val Acc: 82.42%\n",
            "[MobileNetV2] Epoch 18 | Train Loss: 0.0252 | Val Acc: 82.42%\n",
            "[MobileNetV2] Epoch 19 | Train Loss: 0.0200 | Val Acc: 82.42%\n",
            "[MobileNetV2] Epoch 20 | Train Loss: 0.0155 | Val Acc: 82.42%\n",
            " MobileNetV2 Test Accuracy: 85.26%\n"
          ]
        }
      ]
    },
    {
      "cell_type": "markdown",
      "source": [
        "After the same 20 epochs of trainig, the MobileNet reached a test accuracy of 85.26%, slightly better than TinyCNN's results. The model reached a stable validation, but the train loss keep decreases, no overfitting happens."
      ],
      "metadata": {
        "id": "BUqneIsIeUAs"
      }
    },
    {
      "cell_type": "markdown",
      "source": [
        "**Conclusion:** With CK+, models achieved better performances. TinyCNN achieves from 29.54% (in primary FER dataset) to 83.16% and MobileNetV2 rises from 65.38% to 85.26%. This experiment's signifance is showing effective dataset choosing and preprocessing's impact in evaluating facial emotion data."
      ],
      "metadata": {
        "id": "BqGH98tFc8HH"
      }
    }
  ]
}